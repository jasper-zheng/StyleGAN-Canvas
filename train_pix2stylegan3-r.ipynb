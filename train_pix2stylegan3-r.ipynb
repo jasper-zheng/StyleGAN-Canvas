{
 "cells": [
  {
   "cell_type": "markdown",
   "metadata": {
    "id": "Yfdg2rphzKUq",
    "tags": []
   },
   "source": [
    "## continue"
   ]
  },
  {
   "cell_type": "code",
   "execution_count": null,
   "metadata": {},
   "outputs": [],
   "source": [
    "!git clone https://github.com/jasper-zheng/pix2styleGAN3.git"
   ]
  },
  {
   "cell_type": "code",
   "execution_count": null,
   "metadata": {
    "id": "3NIVND5K0MXr",
    "scrolled": true,
    "tags": []
   },
   "outputs": [],
   "source": [
    "!pip uninstall jax jaxlib -y\n",
    "!pip install \"jax[cuda11_cudnn805]==0.3.10\" -f https://storage.googleapis.com/jax-releases/jax_cuda_releases.html\n",
    "!pip install -r /notebooks/pix2styleGAN3/requirements.txt\n",
    "!pip install kmeans_pytorch\n",
    "!pip install kornia"
   ]
  },
  {
   "cell_type": "code",
   "execution_count": null,
   "metadata": {},
   "outputs": [],
   "source": [
    "%cd /notebooks/"
   ]
  },
  {
   "cell_type": "code",
   "execution_count": null,
   "metadata": {
    "tags": []
   },
   "outputs": [],
   "source": [
    "!nvidia-smi"
   ]
  },
  {
   "cell_type": "markdown",
   "metadata": {
    "tags": []
   },
   "source": [
    "## continue"
   ]
  },
  {
   "cell_type": "code",
   "execution_count": null,
   "metadata": {
    "colab": {
     "base_uri": "https://localhost:8080/"
    },
    "id": "uvY6OzLsE1ps",
    "outputId": "52cc9427-a464-4291-ccfa-11f479156c1b",
    "tags": []
   },
   "outputs": [],
   "source": [
    "\n",
    "%cd /notebooks/pix2styleGAN3_canny/\n",
    "\n",
    "\n",
    "\n",
    "\n"
   ]
  },
  {
   "cell_type": "code",
   "execution_count": null,
   "metadata": {
    "scrolled": true,
    "tags": []
   },
   "outputs": [],
   "source": [
    "\n",
    "\n",
    "!python train.py --outdir=/notebooks/runs/ffhq-512-canny --cfg=pix2stylegan3-r --data=/storage/ffhq-u-512/ffhq-u-512x512.zip --gpus=1 --batch=32 --gamma=8 --cmax=512 --cbase=16384 --batch-gpu=32--snap=20    \n",
    "\n"
   ]
  },
  {
   "cell_type": "code",
   "execution_count": null,
   "metadata": {},
   "outputs": [],
   "source": []
  },
  {
   "cell_type": "code",
   "execution_count": null,
   "metadata": {},
   "outputs": [],
   "source": []
  },
  {
   "cell_type": "code",
   "execution_count": null,
   "metadata": {
    "colab": {
     "base_uri": "https://localhost:8080/",
     "height": 35
    },
    "id": "kesYNBcp09hU",
    "outputId": "39ce7458-c248-44e7-c716-5cf8fc3d9cb4"
   },
   "outputs": [],
   "source": [
    "import torch\n",
    "torch.__version__"
   ]
  },
  {
   "cell_type": "markdown",
   "metadata": {
    "id": "L62d2Scfe_cV",
    "jp-MarkdownHeadingCollapsed": true,
    "tags": []
   },
   "source": [
    "##  flask  "
   ]
  },
  {
   "cell_type": "code",
   "execution_count": null,
   "metadata": {},
   "outputs": [],
   "source": []
  },
  {
   "cell_type": "code",
   "execution_count": null,
   "metadata": {},
   "outputs": [],
   "source": []
  },
  {
   "cell_type": "code",
   "execution_count": null,
   "metadata": {
    "colab": {
     "base_uri": "https://localhost:8080/"
    },
    "id": "kHKNoCIwwgcZ",
    "outputId": "542574fb-2783-484b-8956-fbffc339576f"
   },
   "outputs": [],
   "source": [
    "%cd /notebooks"
   ]
  },
  {
   "cell_type": "code",
   "execution_count": null,
   "metadata": {
    "id": "f4tax2WBwgqN"
   },
   "outputs": [],
   "source": [
    "!git clone https://github.com/jasper-zheng/realtime-flask-model.git"
   ]
  },
  {
   "cell_type": "code",
   "execution_count": null,
   "metadata": {},
   "outputs": [],
   "source": [
    "%cd realtime-flask-model"
   ]
  },
  {
   "cell_type": "code",
   "execution_count": null,
   "metadata": {},
   "outputs": [],
   "source": []
  },
  {
   "cell_type": "markdown",
   "metadata": {
    "tags": []
   },
   "source": [
    "## canny test"
   ]
  },
  {
   "cell_type": "code",
   "execution_count": null,
   "metadata": {},
   "outputs": [],
   "source": []
  },
  {
   "cell_type": "code",
   "execution_count": null,
   "metadata": {},
   "outputs": [],
   "source": [
    "\n",
    "%cd /notebooks/pix2styleGAN3_canny/\n"
   ]
  },
  {
   "cell_type": "code",
   "execution_count": null,
   "metadata": {},
   "outputs": [],
   "source": [
    "import legacy\n",
    "import dnnlib\n",
    "\n",
    "import torch\n",
    "import numpy as np\n",
    "\n",
    "from torch_utils import misc\n",
    "from torch_utils.ops import upfirdn2d\n",
    "\n",
    "device = torch.device('cuda')\n",
    "network_pkl = '/notebooks/runs/ffhq-512-canny/00013-pix2stylegan3-r-ffhq-u-512x512-gpus1-batch32-gamma8/network-snapshot-002792.pkl'\n",
    "\n",
    "\n",
    "with dnnlib.util.open_url(network_pkl) as f:\n",
    "    model = legacy.load_network_pkl(f)\n",
    "    g_model = model['G'].eval().requires_grad_(False).to(device)\n",
    "    "
   ]
  },
  {
   "cell_type": "code",
   "execution_count": null,
   "metadata": {},
   "outputs": [],
   "source": [
    "import torch\n",
    "\n",
    "from torchvision.transforms import ToTensor\n",
    "from PIL import Image\n",
    "\n",
    "from torchvision.transforms.functional import to_pil_image\n",
    "from torchvision.utils import make_grid\n",
    "from IPython import display\n",
    "\n",
    "from training.training_loop import Preprocess\n",
    "\n",
    "op = Preprocess()\n",
    "\n",
    "convert_tensor = ToTensor()"
   ]
  },
  {
   "cell_type": "code",
   "execution_count": null,
   "metadata": {},
   "outputs": [],
   "source": [
    "zs = []\n",
    "for i in range(4):\n",
    "    z = np.random.randn(1, 512)\n",
    "    z = torch.from_numpy(z).to(device)\n",
    "    zs.append(z)"
   ]
  },
  {
   "cell_type": "code",
   "execution_count": null,
   "metadata": {},
   "outputs": [],
   "source": [
    "device = torch.device('cuda')\n",
    "img = Image.open('/notebooks/previews/ffhq256_preview/00000/img00000427.png').convert(\"RGB\")\n",
    "img_tensor = convert_tensor(img).to(device).unsqueeze(0)*2-1\n",
    "img_tensor = op.preprocess_to_conditions(img_tensor)\n",
    "display.display(to_pil_image(img_tensor.add(1).div(2).clamp(0, 1)[0].cpu()))\n",
    "\n",
    "\n",
    "\n",
    "p = []\n",
    "for i in range(4):\n",
    "    p.append(g_model(zs[i], None, img_tensor[:,:1]))\n",
    "\n",
    "img_tensor_show = img_tensor.repeat([1,3,1,1])\n",
    "img_tensor_show = torch.cat((torch.ones_like(img_tensor_show).to(device),img_tensor_show),dim=2)\n",
    "x = torch.cat((img_tensor_show,p[0],p[1],p[2],p[3]),dim=3)\n",
    "\n",
    "display.display(to_pil_image(x.add(1).div(2).clamp(0, 1)[0].cpu()))"
   ]
  },
  {
   "cell_type": "code",
   "execution_count": null,
   "metadata": {},
   "outputs": [],
   "source": [
    "img_tensor.repeat([1,3,1,1]).shape"
   ]
  },
  {
   "cell_type": "code",
   "execution_count": null,
   "metadata": {},
   "outputs": [],
   "source": [
    "z2 = z"
   ]
  },
  {
   "cell_type": "code",
   "execution_count": null,
   "metadata": {},
   "outputs": [],
   "source": [
    "z = np.random.randn(1, 512)\n",
    "z = torch.from_numpy(z).to(device)"
   ]
  },
  {
   "cell_type": "code",
   "execution_count": null,
   "metadata": {},
   "outputs": [],
   "source": [
    "device = torch.device('cuda')\n",
    "img = Image.open('/notebooks/40.png').convert(\"RGB\")\n",
    "img_tensor = convert_tensor(img).to(device).unsqueeze(0)*2-1\n",
    "display.display(to_pil_image(img_tensor.add(1).div(2).clamp(0, 1)[0].cpu()))\n",
    "\n",
    "p = g_model(z, None, img_tensor[:,:1])\n",
    "\n",
    "display.display(to_pil_image(p.add(1).div(2).clamp(0, 1)[0].cpu()))"
   ]
  },
  {
   "cell_type": "code",
   "execution_count": null,
   "metadata": {},
   "outputs": [],
   "source": [
    "device = torch.device('cuda')\n",
    "img = Image.open('/notebooks/41.png').convert(\"RGB\")\n",
    "img_tensor = convert_tensor(img).to(device).unsqueeze(0)*2-1\n",
    "display.display(to_pil_image(img_tensor.add(1).div(2).clamp(0, 1)[0].cpu()))\n",
    "\n",
    "p = g_model(z, None, img_tensor[:,:1])\n",
    "\n",
    "display.display(to_pil_image(p.add(1).div(2).clamp(0, 1)[0].cpu()))"
   ]
  },
  {
   "cell_type": "code",
   "execution_count": null,
   "metadata": {},
   "outputs": [],
   "source": []
  }
 ],
 "metadata": {
  "accelerator": "GPU",
  "colab": {
   "collapsed_sections": [
    "guaMEEvlzHjd"
   ],
   "provenance": []
  },
  "gpuClass": "standard",
  "kernelspec": {
   "display_name": "Python 3 (ipykernel)",
   "language": "python",
   "name": "python3"
  },
  "language_info": {
   "codemirror_mode": {
    "name": "ipython",
    "version": 3
   },
   "file_extension": ".py",
   "mimetype": "text/x-python",
   "name": "python",
   "nbconvert_exporter": "python",
   "pygments_lexer": "ipython3",
   "version": "3.9.13"
  }
 },
 "nbformat": 4,
 "nbformat_minor": 4
}
